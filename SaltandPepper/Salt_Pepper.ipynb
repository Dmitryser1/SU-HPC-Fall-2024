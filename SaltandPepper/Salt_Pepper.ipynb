{
 "cells": [
  {
   "cell_type": "code",
   "execution_count": 15,
   "metadata": {
    "executionInfo": {
     "elapsed": 2,
     "status": "ok",
     "timestamp": 1736600038698,
     "user": {
      "displayName": "Lubus",
      "userId": "02549124250565537973"
     },
     "user_tz": -240
    },
    "id": "KG9TjmExaPlG"
   },
   "outputs": [],
   "source": [
    "import numpy as np\n",
    "import cv2\n",
    "import math\n",
    "from numba import cuda, int32"
   ]
  },
  {
   "cell_type": "code",
   "execution_count": 16,
   "metadata": {
    "executionInfo": {
     "elapsed": 3,
     "status": "ok",
     "timestamp": 1736600039734,
     "user": {
      "displayName": "Lubus",
      "userId": "02549124250565537973"
     },
     "user_tz": -240
    },
    "id": "Y2LGM044aPin"
   },
   "outputs": [],
   "source": [
    "#Salt&Pepper\n",
    "def add_noise(image, probability):\n",
    "    noisy_image = image.copy()\n",
    "    random_matrix = np.random.rand(image.shape[0], image.shape[1])\n",
    "    noisy_image[random_matrix < probability] = 0\n",
    "    noisy_image[random_matrix > 1 - probability] = 255\n",
    "    return noisy_image"
   ]
  },
  {
   "cell_type": "code",
   "execution_count": 17,
   "metadata": {
    "executionInfo": {
     "elapsed": 2,
     "status": "ok",
     "timestamp": 1736600039734,
     "user": {
      "displayName": "Lubus",
      "userId": "02549124250565537973"
     },
     "user_tz": -240
    },
    "id": "JddHJHF2aPfG"
   },
   "outputs": [],
   "source": [
    "#cuda_meidan\n",
    "@cuda.jit\n",
    "def median_filter_kernel(input_image, output_image):\n",
    "    i, j = cuda.grid(2)\n",
    "    if i >= 1 and j >= 1 and i < input_image.shape[0] - 1 and j < input_image.shape[1] - 1:\n",
    "        local_window = cuda.local.array(shape=9, dtype=np.uint8)\n",
    "\n",
    "        idx = 0\n",
    "        for di in range(-1, 2):\n",
    "            for dj in range(-1, 2):\n",
    "                local_window[idx] = input_image[i + di, j + dj]\n",
    "                idx += 1\n",
    "\n",
    "        for k in range(8):\n",
    "            for l in range(8 - k):\n",
    "                if local_window[l] > local_window[l + 1]:\n",
    "                    local_window[l], local_window[l + 1] = local_window[l + 1], local_window[l]\n",
    "\n",
    "        output_image[i, j] = local_window[4]"
   ]
  },
  {
   "cell_type": "code",
   "execution_count": 18,
   "metadata": {
    "executionInfo": {
     "elapsed": 3,
     "status": "ok",
     "timestamp": 1736600039735,
     "user": {
      "displayName": "Lubus",
      "userId": "02549124250565537973"
     },
     "user_tz": -240
    },
    "id": "CzBVTgZDaPcq"
   },
   "outputs": [],
   "source": [
    "#CPU_median\n",
    "def apply_median_filter_cpu(input_image):\n",
    "    output_image = np.zeros_like(input_image)\n",
    "    start_time = cv2.getTickCount()\n",
    "\n",
    "    for i in range(1, input_image.shape[0] - 1):\n",
    "        for j in range(1, input_image.shape[1] - 1):\n",
    "            local_window = input_image[i - 1:i + 2, j - 1:j + 2].flatten()\n",
    "            local_window.sort()\n",
    "            output_image[i, j] = local_window[4]\n",
    "\n",
    "    end_time = cv2.getTickCount()\n",
    "    elapsed_time_s = (end_time - start_time) / cv2.getTickFrequency()\n",
    "    return output_image, elapsed_time_s"
   ]
  },
  {
   "cell_type": "code",
   "execution_count": 19,
   "metadata": {
    "executionInfo": {
     "elapsed": 2,
     "status": "ok",
     "timestamp": 1736600039735,
     "user": {
      "displayName": "Lubus",
      "userId": "02549124250565537973"
     },
     "user_tz": -240
    },
    "id": "AndT9spUaPWq"
   },
   "outputs": [],
   "source": [
    "def main():\n",
    "    input_image = cv2.imread('input.bmp', cv2.IMREAD_GRAYSCALE)\n",
    "\n",
    "    noisy_image = add_noise(input_image, probability=0.05)\n",
    "    cv2.imwrite('noisy_image.bmp', noisy_image)\n",
    "\n",
    "    gpu_filtered_image, gpu_time = apply_median_filter_gpu(noisy_image)\n",
    "    cv2.imwrite('gpu_filtered_image.bmp', gpu_filtered_image)\n",
    "\n",
    "    cpu_filtered_image, cpu_time = apply_median_filter_cpu(noisy_image)\n",
    "    cv2.imwrite('cpu_filtered_image.bmp', cpu_filtered_image)\n",
    "\n",
    "    print(f\"GPU processing time: {gpu_time:.6f} seconds\")\n",
    "    print(f\"CPU processing time: {cpu_time:.6f} seconds\")"
   ]
  },
  {
   "cell_type": "code",
   "execution_count": 20,
   "metadata": {
    "colab": {
     "base_uri": "https://localhost:8080/"
    },
    "executionInfo": {
     "elapsed": 558,
     "status": "ok",
     "timestamp": 1736600040291,
     "user": {
      "displayName": "Lubus",
      "userId": "02549124250565537973"
     },
     "user_tz": -240
    },
    "id": "9zGjc5_mVT8U",
    "outputId": "5000952c-90cf-4f8e-da8f-89f859b20d8b"
   },
   "outputs": [
    {
     "name": "stdout",
     "output_type": "stream",
     "text": [
      "GPU processing time: 0.364122 seconds\n",
      "CPU processing time: 0.835027 seconds\n"
     ]
    }
   ],
   "source": [
    "if __name__ == '__main__':\n",
    "    main()"
   ]
  }
 ],
 "metadata": {
  "accelerator": "GPU",
  "colab": {
   "authorship_tag": "ABX9TyPdtIbd1EBXoTtnguJQChUI",
   "gpuType": "T4",
   "provenance": []
  },
  "kernelspec": {
   "display_name": "Python 3",
   "name": "python3"
  },
  "language_info": {
   "name": "python"
  }
 },
 "nbformat": 4,
 "nbformat_minor": 0
}
